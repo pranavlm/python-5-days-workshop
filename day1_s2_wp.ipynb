{
  "nbformat": 4,
  "nbformat_minor": 0,
  "metadata": {
    "colab": {
      "name": "day1-s2-wp",
      "provenance": [],
      "authorship_tag": "ABX9TyP2nDEnKviAC7eDhtHc9l5b",
      "include_colab_link": true
    },
    "kernelspec": {
      "name": "python3",
      "display_name": "Python 3"
    }
  },
  "cells": [
    {
      "cell_type": "markdown",
      "metadata": {
        "id": "view-in-github",
        "colab_type": "text"
      },
      "source": [
        "<a href=\"https://colab.research.google.com/github/pranavlm/python-5-days-workshop/blob/master/day1_s2_wp.ipynb\" target=\"_parent\"><img src=\"https://colab.research.google.com/assets/colab-badge.svg\" alt=\"Open In Colab\"/></a>"
      ]
    },
    {
      "cell_type": "code",
      "metadata": {
        "id": "YhbEpNWFJvqI",
        "colab_type": "code",
        "outputId": "35d44ac3-797f-44c9-9e46-929d7f9a0863",
        "colab": {
          "base_uri": "https://localhost:8080/",
          "height": 67
        }
      },
      "source": [
        "#Python Program to find the factorial of a number using loop. \n",
        "n=int(input(\"Enter number:\"))\n",
        "fact=1\n",
        "\n",
        "while(n>0):\n",
        "    fact=fact*n\n",
        "    n=n-1\n",
        "print(\"Factorial of the number is: \")\n",
        "print(fact)\n"
      ],
      "execution_count": 0,
      "outputs": [
        {
          "output_type": "stream",
          "text": [
            "Enter number:5\n",
            "Factorial of the number is: \n",
            "120\n"
          ],
          "name": "stdout"
        }
      ]
    },
    {
      "cell_type": "code",
      "metadata": {
        "id": "hyhxz_7GJ7zh",
        "colab_type": "code",
        "outputId": "fe1cf42d-1517-4fea-eba4-db20474521f1",
        "colab": {
          "base_uri": "https://localhost:8080/",
          "height": 67
        }
      },
      "source": [
        "#Python Program to reverse a number using loop \n",
        "r=0\n",
        "n=int(input(\"Enter a number: \"))\n",
        "while(n>0):\n",
        "    dig=n%10\n",
        "    r=r*10+dig\n",
        "    n=n//10\n",
        "print(\"The reversed no  is:\")\n",
        "print(r)\n"
      ],
      "execution_count": 0,
      "outputs": [
        {
          "output_type": "stream",
          "text": [
            "Enter a number: 123654\n",
            "The reversed no  is:\n",
            "456321\n"
          ],
          "name": "stdout"
        }
      ]
    },
    {
      "cell_type": "code",
      "metadata": {
        "id": "uPG_EKHxKExF",
        "colab_type": "code",
        "outputId": "b30a48fc-b05e-4a3e-e940-249287fdedac",
        "colab": {
          "base_uri": "https://localhost:8080/",
          "height": 185
        }
      },
      "source": [
        "n=5;\n",
        "for i in range(n):\n",
        "    for j in range(i):\n",
        "        print ('* ', end=\"\")\n",
        "    print('')\n",
        "\n",
        "for i in range(n,0,-1):\n",
        "    for j in range(i):\n",
        "        print('* ', end=\"\")\n",
        "    print('')\n"
      ],
      "execution_count": 0,
      "outputs": [
        {
          "output_type": "stream",
          "text": [
            "\n",
            "* \n",
            "* * \n",
            "* * * \n",
            "* * * * \n",
            "* * * * * \n",
            "* * * * \n",
            "* * * \n",
            "* * \n",
            "* \n"
          ],
          "name": "stdout"
        }
      ]
    },
    {
      "cell_type": "code",
      "metadata": {
        "id": "zlLFQyppKJzF",
        "colab_type": "code",
        "outputId": "550ddf8a-bbd0-4e72-9d54-2c85dd7c81da",
        "colab": {
          "base_uri": "https://localhost:8080/",
          "height": 67
        }
      },
      "source": [
        "#Python Program to replace all occurrences of ‘a’ with ‘$’ in a string. \n",
        "string=input(\"Enter string:\")\n",
        "string=string.replace('a','$')\n",
        "string=string.replace('A','$')\n",
        "print(\"Modified string:\")\n",
        "print(string)\n"
      ],
      "execution_count": 0,
      "outputs": [
        {
          "output_type": "stream",
          "text": [
            "Enter string:pranav\n",
            "Modified string:\n",
            "pr$n$v\n"
          ],
          "name": "stdout"
        }
      ]
    },
    {
      "cell_type": "code",
      "metadata": {
        "id": "VsvMRjN6KSxE",
        "colab_type": "code",
        "outputId": "ba4a7fd6-ceee-497e-8112-1dd9610ce0df",
        "colab": {
          "base_uri": "https://localhost:8080/",
          "height": 84
        }
      },
      "source": [
        "#Python Program to remove the nth index character from a non-empty string. \n",
        "def remove(string, n):  \n",
        "      first = string[:n]   \n",
        "      last = string[n+1:]  \n",
        "      return first + last\n",
        "string=input(\"Enter the sring:\")\n",
        "n=int(input(\"Enter the index of the character to remove:\"))\n",
        "print(\"Modified string:\")\n",
        "print(remove(string, n))\n"
      ],
      "execution_count": 0,
      "outputs": [
        {
          "output_type": "stream",
          "text": [
            "Enter the sring:pranava\n",
            "Enter the index of the character to remove:3\n",
            "Modified string:\n",
            "praava\n"
          ],
          "name": "stdout"
        }
      ]
    },
    {
      "cell_type": "code",
      "metadata": {
        "id": "C14EA1TUKbF-",
        "colab_type": "code",
        "outputId": "f048aa01-5deb-4e3e-fa69-b0aba20f1d39",
        "colab": {
          "base_uri": "https://localhost:8080/",
          "height": 67
        }
      },
      "source": [
        "#Python Program to detect if two strings are anagrams. \n",
        "s1=input(\"Enter first string:\")\n",
        "s2=input(\"Enter second string:\")\n",
        "if(sorted(s1)==sorted(s2)):\n",
        "      print(\"The strings are anagrams.\")\n",
        "else:\n",
        "      print(\"The strings aren't anagrams.\")\n"
      ],
      "execution_count": 0,
      "outputs": [
        {
          "output_type": "stream",
          "text": [
            "Enter first string:lm\n",
            "Enter second string:pranav\n",
            "The strings aren't anagrams.\n"
          ],
          "name": "stdout"
        }
      ]
    },
    {
      "cell_type": "code",
      "metadata": {
        "id": "Qy-poYKGKhKF",
        "colab_type": "code",
        "outputId": "fe534213-a2dc-4e47-dca1-d46ed2208f69",
        "colab": {
          "base_uri": "https://localhost:8080/",
          "height": 67
        }
      },
      "source": [
        "#Python Program to form a string where the first character and the last character have been exchanged. \n",
        "def change(string):\n",
        "      return string[-1:] + string[1:-1] + string[:1]\n",
        "string=input(\"Enter string:\")\n",
        "print(\"Modified string:\")\n",
        "print(change(string))\n"
      ],
      "execution_count": 0,
      "outputs": [
        {
          "output_type": "stream",
          "text": [
            "Enter string:kjjdh\n",
            "Modified string:\n",
            "hjjdk\n"
          ],
          "name": "stdout"
        }
      ]
    },
    {
      "cell_type": "code",
      "metadata": {
        "id": "RY3xhuM2Kmj9",
        "colab_type": "code",
        "outputId": "7352812a-6a0c-4d17-f3c6-ae58a4694a4f",
        "colab": {
          "base_uri": "https://localhost:8080/",
          "height": 67
        }
      },
      "source": [
        "#Python Program to  count number of vowels from a non-empty string. \n",
        "string=input(\"Enter string:\")\n",
        "vowels=0\n",
        "for i in string:\n",
        "      if(i=='a' or i=='e' or i=='i' or i=='o' or i=='u' or i=='A' or i=='E' or i=='I' or i=='O' or i=='U'):\n",
        "            vowels=vowels+1\n",
        "print(\"Number of vowels are:\")\n",
        "print(vowels)\n"
      ],
      "execution_count": 0,
      "outputs": [
        {
          "output_type": "stream",
          "text": [
            "Enter string:pranava\n",
            "Number of vowels are:\n",
            "3\n"
          ],
          "name": "stdout"
        }
      ]
    },
    {
      "cell_type": "code",
      "metadata": {
        "id": "NjL3DlXUKvhz",
        "colab_type": "code",
        "outputId": "f1d70856-3468-46e3-97ee-a22ecba59d33",
        "colab": {
          "base_uri": "https://localhost:8080/",
          "height": 101
        }
      },
      "source": [
        "#Program for Divide by zero error detection\n",
        "flag = True\n",
        "\n",
        "def div(a, b):  \n",
        "       try:\n",
        "            print(\"Finally the division of %d/%d is %f\" % (a, b,a/b))\n",
        "            global flag\n",
        "            flag=False\n",
        "       except ZeroDivisionError:\n",
        "            print(\"Zero Division Error detected\")\n",
        "       else:\n",
        "            print(\"Division is successful\") \n",
        "       finally:\n",
        "            if flag is True:\n",
        "               print(\"Try again\")     \n",
        "            else:\n",
        "               print(\"Thank you\")\n",
        "       \n",
        "#global flag\n",
        "\n",
        "while flag is True:\n",
        "    div(int(input(\"Enter numerator\")),int(input(\"Enter denominator\")))\n",
        "\n"
      ],
      "execution_count": 0,
      "outputs": [
        {
          "output_type": "stream",
          "text": [
            "Enter numerator10\n",
            "Enter denominator20\n",
            "Finally the division of 10/20 is 0.500000\n",
            "Division is successful\n",
            "Thank you\n"
          ],
          "name": "stdout"
        }
      ]
    },
    {
      "cell_type": "code",
      "metadata": {
        "id": "f4jsPu0eK0ZF",
        "colab_type": "code",
        "outputId": "10aae2bc-7306-41d0-a077-b0dfdb843419",
        "colab": {
          "base_uri": "https://localhost:8080/",
          "height": 50
        }
      },
      "source": [
        "#Program for ValueError error detection\n",
        "\n",
        "while True:\n",
        "     try:\n",
        "         x = int(input(\"Please enter a number: \"))\n",
        "         print(\" That was valid number. Thank you\")\n",
        "         break\n",
        "     except ValueError:\n",
        "         print(\"Oops!  That was no valid number.  Try again...\")\n",
        "\n"
      ],
      "execution_count": 0,
      "outputs": [
        {
          "output_type": "stream",
          "text": [
            "Please enter a number: 10\n",
            " That was valid number. Thank you\n"
          ],
          "name": "stdout"
        }
      ]
    }
  ]
}